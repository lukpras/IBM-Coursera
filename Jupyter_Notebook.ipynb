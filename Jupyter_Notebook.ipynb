{
    "cells": [
        {
            "cell_type": "markdown",
            "metadata": {},
            "source": "<center>\n    <img src=\"https://s3-api.us-geo.objectstorage.softlayer.net/cf-courses-data/CognitiveClass/Logos/organization_logo/organization_logo.png\" width=\"300\" alt=\"cognitiveclass.ai logo\"  />\n</center>\n"
        },
        {
            "cell_type": "markdown",
            "metadata": {},
            "source": "#### Add your code below following the instructions given in the course\n"
        },
        {
            "cell_type": "markdown",
            "metadata": {},
            "source": "# My Jupyter Notebook on IBM Watson Studio"
        },
        {
            "cell_type": "markdown",
            "metadata": {},
            "source": "**Luki Prasetyo** <br>\nData"
        },
        {
            "cell_type": "markdown",
            "metadata": {},
            "source": "*Luki believes in open data and open source software*"
        },
        {
            "cell_type": "markdown",
            "metadata": {},
            "source": "### The following test for calcuating Z Score in Normal Distribution"
        },
        {
            "cell_type": "code",
            "execution_count": 2,
            "metadata": {},
            "outputs": [
                {
                    "data": {
                        "text/plain": "array([-1.39443338, -1.19522861, -1.19522861, -0.19920477,  0.        ,\n        0.        ,  0.39840954,  0.5976143 ,  1.19522861,  1.79284291])"
                    },
                    "execution_count": 2,
                    "metadata": {},
                    "output_type": "execute_result"
                }
            ],
            "source": "import pandas as pd\nimport numpy as np\nimport scipy.stats as stats\n\ndata = np.array([6, 7, 7, 12, 13, 13, 15, 16, 19, 22])\nstats.zscore(data)"
        },
        {
            "cell_type": "markdown",
            "metadata": {},
            "source": "* test\n* one\n* two\n* three\n\n***\n**Visit on Watson Studio** \n***\n\n<a href=\"https://dataplatform.cloud.ibm.com/analytics/notebooks/v2/ed06663c-b3cb-4153-9af9-2976a6db4551/view?access_token=ecb3d173a12ed3fc58740178060bef6f8c24e86b7ab6ded085e4526842ca0759\" target=\"_blank\">this link</a>."
        },
        {
            "cell_type": "code",
            "execution_count": null,
            "metadata": {},
            "outputs": [],
            "source": ""
        }
    ],
    "metadata": {
        "kernelspec": {
            "display_name": "Python 3.9",
            "language": "python",
            "name": "python3"
        },
        "language_info": {
            "codemirror_mode": {
                "name": "ipython",
                "version": 3
            },
            "file_extension": ".py",
            "mimetype": "text/x-python",
            "name": "python",
            "nbconvert_exporter": "python",
            "pygments_lexer": "ipython3",
            "version": "3.9.12"
        }
    },
    "nbformat": 4,
    "nbformat_minor": 4
}